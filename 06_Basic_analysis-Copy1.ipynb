{
 "cells": [
  {
   "cell_type": "markdown",
   "metadata": {},
   "source": [
    "# Performing a basic analysis <img align=\"right\" src=\"../Supplementary_data/dea_logo.jpg\">\n",
    "\n",
    "* **Acknowledgement**: This notebook was originally created by [Digital Eath Australia (DEA)](https://www.ga.gov.au/about/projects/geographic/digital-earth-australia) and has been modified for use in the EY Data Science Program\n",
    "* **Products used:** \n",
    "[s2a_ard_granule](https://explorer.sandbox.dea.ga.gov.au/s2a_ard_granule)\n",
    "* **Prerequisites**:  Users of this notebook should have a basic understanding of:\n",
    "    * How to run a [Jupyter notebook](01_Jupyter_notebooks.ipynb)\n",
    "    * The basic structure of the DEA [satellite datasets](02_DEA.ipynb)\n",
    "    * Inspecting available [DEA products and measurements](03_Products_and_measurements.ipynb)\n",
    "    * How to [load data from DEA](04_Loading_data.ipynb)\n",
    "    * How to [plot loaded data](05_Plotting.ipynb)"
   ]
  },
  {
   "cell_type": "markdown",
   "metadata": {},
   "source": [
    "## Background\n",
    "To understand the world around us, it's important to combine the key steps of loading, visualising, manipulating and interpreting satellite data.\n",
    "To perform an analysis, we begin with a question and use these steps to reach an answer."
   ]
  },
  {
   "cell_type": "markdown",
   "metadata": {},
   "source": [
    "## Description\n",
    "This notebook demonstrates how to conduct a basic analysis with DEA data and the Open Data Cube.\n",
    "It will combine many of the steps that have been covered in the other beginner's notebooks.\n",
    "\n",
    "In this notebook, the analysis question is _\"How is the health of vegetation changing over time in a given area?\"_\n",
    "\n",
    "This could be related to a number of broader questions: \n",
    "\n",
    "* What is the effect of a particular fertilizer on a field of crops?\n",
    "* How has a patch of forest changed after a fire? \n",
    "* How does proximity to water affect vegetation throughout the year?\n",
    "\n",
    "For this notebook, the analysis question will be kept simple, without much real-world context. \n",
    "For more examples of notebooks that demonstrate how to use DEA to answer specific analysis questions, see the notebooks in the \"Real world examples\" folder. \n",
    "\n",
    "Topics covered in this notebook include:\n",
    "\n",
    "1. Choosing a study area.\n",
    "2. Loading data for the study area.\n",
    "3. Plotting the chosen data and exploring how it changes with time.\n",
    "4. Calculating a measure of vegetation health from the loaded data.\n",
    "5. Exporting the data for further analysis.\n",
    "\n",
    "***"
   ]
  },
  {
   "cell_type": "markdown",
   "metadata": {},
   "source": [
    "## Getting started\n",
    "To run this introduction to plotting data loaded from the datacube, run all the cells in the notebook starting with the \"Load packages\" cell. For help with running notebook cells, refer back to the [Jupyter Notebooks notebook](01_Jupyter_notebooks.ipynb). "
   ]
  },
  {
   "cell_type": "markdown",
   "metadata": {},
   "source": [
    "### Load packages\n",
    "The cell below imports Python packages that are used for the analysis.\n",
    "The first command is `%matplotlib inline`, which ensures figures plot correctly in the Jupyter notebook.\n",
    "The following commands import various functionality: \n",
    "\n",
    "* `sys` provides access to helpful support functions in the `dea_plotting` module. \n",
    "* `datacube` provides the ability to query and load data.\n",
    "* `matplotlib` provides the ability to format and manipulate plots."
   ]
  },
  {
   "cell_type": "code",
   "execution_count": null,
   "metadata": {},
   "outputs": [],
   "source": [
    "%matplotlib inline\n",
    "\n",
    "import sys\n",
    "import datacube\n",
    "import matplotlib.pyplot as plt\n",
    "from datacube.utils.cog import write_cog\n",
    "\n",
    "sys.path.append(\"../scripts\")\n",
    "from dea_plotting import display_map\n",
    "from dea_plotting import rgb"
   ]
  },
  {
   "cell_type": "markdown",
   "metadata": {},
   "source": [
    "### Connect to the datacube\n",
    "The next step is to connect to the datacube database.\n",
    "The resulting `dc` datacube object can then be used to load data.\n",
    "The `app` parameter is a unique name used to identify the notebook that does not have any effect on the analysis."
   ]
  },
  {
   "cell_type": "code",
   "execution_count": null,
   "metadata": {},
   "outputs": [],
   "source": [
    "dc = datacube.Datacube(app=\"06_Basic_analysis\")"
   ]
  },
  {
   "cell_type": "markdown",
   "metadata": {},
   "source": [
    "## Step 1: Choose a study area"
   ]
  },
  {
   "cell_type": "markdown",
   "metadata": {},
   "source": [
    "When working with the Open Data Cube, it's important to load only as much data as needed.\n",
    "This helps keep an analysis running quickly and avoids the notebook crashing due to insufficient memory.\n",
    "\n",
    "One way to set the study area is to set a central latitude and longitude coordinate pair, `(central_lat, central_lon)`, then specify how many degrees to include either side of the central latitude and longitude, known as the `buffer`.\n",
    "Together, these parameters specify a square study area, as shown below:\n",
    "\n",
    "<img src=\"../Supplementary_data/06_Basic_analysis/latlong_buffer.png\" width=\"250\" height=\"250\">"
   ]
  },
  {
   "cell_type": "markdown",
   "metadata": {},
   "source": [
    "### Location\n",
    "Below, we have set the study area covering Dead Dog Creek, Queensland.\n",
    "To load a different area, you can provide your own `central_lat` and `central_lon` values.\n",
    "One way to source these is to Google a location, or click directly on the map in [Google Maps](https://www.google.com/maps/@-43.4539764,146.5660989,11642m/data=!3m1!1e3).\n",
    "Other options are:\n",
    "\n",
    "* **Mansfield, Victoria**\n",
    "```\n",
    "central_lat = -37.095\n",
    "central_lon = 145.98\n",
    "```\n",
    "* **Lake Disappointment, Western Australia**\n",
    "```\n",
    "central_lat = -23.765\n",
    "central_lon = 134.724\n",
    "```\n",
    "* **Precipitous Bluff, Tasmania**\n",
    "```\n",
    "central_lat = -43.469\n",
    "central_lon = 146.604\n",
    "```\n",
    "\n",
    "> **Note**: If you change the study area latitude and longitude, you'll need to re-run all of the cells after to apply that change to the whole analysis."
   ]
  },
  {
   "cell_type": "markdown",
   "metadata": {},
   "source": [
    "### Buffer\n",
    "Feel free to experiment with the `buffer` value to load different sized areas.\n",
    "We recommend that you keep the `buffer` relatively small, no higher than `buffer=0.1` degrees.\n",
    "This will help keep the loading times reasonable and prevent the notebook from crashing.\n",
    "\n",
    "> **Extension**: Can you modify the code to use a different `buffer` value for latitude and longitude? \n",
    "\n",
    "> *Hint*: You may want two variables, `buffer_lat` and `buffer_lon` that you can set independently. You'll then need to update the definitions of `study_area_lat` and `study_area_lon` with their corresponding buffer value."
   ]
  },
  {
   "cell_type": "code",
   "execution_count": null,
   "metadata": {},
   "outputs": [],
   "source": [
    "# Set the central latitude and longitude\n",
    "central_lat = -37.095\n",
    "central_lon = 145.98\n",
    "\n",
    "# Set the buffer to load around the central coordinates\n",
    "buffer = 0.025\n",
    "\n",
    "# Compute the bounding box for the study area\n",
    "study_area_lat = (central_lat - buffer, central_lat + buffer)\n",
    "study_area_lon = (central_lon - buffer, central_lon + buffer)"
   ]
  },
  {
   "cell_type": "markdown",
   "metadata": {},
   "source": [
    "After choosing the study area, it can be useful to visualise it on an interactive map.\n",
    "This provides a sense of scale.\n",
    "> **Note**: The interactive map also returns latitude and longitude values when clicked.\n",
    "You can use this to generate new latitude and longitude values to try without leaving the notebook."
   ]
  },
  {
   "cell_type": "code",
   "execution_count": null,
   "metadata": {},
   "outputs": [],
   "source": [
    "display_map(x=study_area_lon, y=study_area_lat)"
   ]
  },
  {
   "cell_type": "markdown",
   "metadata": {},
   "source": [
    "## Step 2: Loading data\n",
    "\n",
    "When asking analysis questions about vegetation, it's useful to work with optical imagery, such as Sentinel-2 or Landsat.\n",
    "Sentinel-2 has 10 metre resolution; the [DEA collection](https://explorer.sandbox.dea.ga.gov.au/ga_s2a_ard_nbar_granule) covers Australia back to 2017.\n",
    "The Landsat satellites (5, 7, and 8) have 30 metre resolution; the [DEA collection](https://explorer.sandbox.dea.ga.gov.au/ga_ls5t_ard_3) covers Australia back to 1987.\n",
    "\n",
    "For this analysis, we'll work with Sentinel-2, which produces higher-resolution images than Landsat.\n",
    "For analyses that aim to measure change over very long periods of time (e.g. multiple decades), Landsat may be more suitable.\n",
    "\n",
    "In this example, we'll load data from a single Sentinel-2 satellite, Sentinel-2A.\n",
    "The code below sets up the required information to load the data."
   ]
  },
  {
   "cell_type": "code",
   "execution_count": null,
   "metadata": {},
   "outputs": [],
   "source": [
    "# Set the data source - s2a corresponds to Sentinel-2A\n",
    "set_product = \"ga_s2a_ard_nbar_granule\"\n",
    "\n",
    "# Set the date range to load data over\n",
    "set_time = (\"2018-09-01\", \"2018-12-01\")\n",
    "\n",
    "# Set the measurements/bands to load\n",
    "# For this analysis, we'll load the red, green, blue and near-infrared bands\n",
    "set_measurements = [\n",
    "    \"nbar_red\",\n",
    "    \"nbar_blue\",\n",
    "    \"nbar_green\",\n",
    "    \"nbar_nir_1\"\n",
    "]\n",
    "\n",
    "# Set the coordinate reference system and output resolution\n",
    "# This choice corresponds to Australian Albers, with resolution in metres\n",
    "set_crs = \"epsg:3577\"\n",
    "set_resolution = (-10, 10)"
   ]
  },
  {
   "cell_type": "markdown",
   "metadata": {},
   "source": [
    "After setting all of the necessary parameters, the `dc.load()` command is used to load the data:"
   ]
  },
  {
   "cell_type": "code",
   "execution_count": null,
   "metadata": {},
   "outputs": [],
   "source": [
    "dataset = dc.load(\n",
    "    product=set_product,\n",
    "    x=study_area_lon,\n",
    "    y=study_area_lat,\n",
    "    time=set_time,\n",
    "    measurements=set_measurements,\n",
    "    output_crs=set_crs,\n",
    "    resolution=set_resolution\n",
    ")"
   ]
  },
  {
   "cell_type": "markdown",
   "metadata": {},
   "source": [
    "Following the load step, printing the `dataset` object will give you insight into all of the data that was loaded.\n",
    "Do this by running the next cell.\n",
    "\n",
    "There's a lot of information to unpack, which is represented by the following aspects of the data:\n",
    "- `Dimensions`: the names of data dimensions, frequently `time`, `x` and `y`, and number of entries in each\n",
    "- `Coordinates`: the coordinate values for each point in the data cube\n",
    "- `Data variables`: the observations loaded, frequently different spectral bands from a satellite\n",
    "- `Attributes`: any useful information for the data, such as the `crs` (coordinate reference system)"
   ]
  },
  {
   "cell_type": "code",
   "execution_count": null,
   "metadata": {},
   "outputs": [],
   "source": [
    "print(dataset)"
   ]
  },
  {
   "cell_type": "markdown",
   "metadata": {},
   "source": [
    "## Step 3: Plotting data\n",
    "\n",
    "After loading the data, it is useful to view it to understand the resolution, which observations are impacted by cloud cover, and whether there are any obvious differences between time steps.\n",
    "\n",
    "We use the `rgb()` function to plot the data loaded in the previous step.\n",
    "The `rgb()` function maps three data variables/measurements from the loaded dataset to the red, green and blue channels that are used to make a three-colour image.\n",
    "There are several parameters you can experiment with:\n",
    "\n",
    "* `time_step=n`\\\n",
    "This sets the time step you want to view. \n",
    "`n` can be any number from `0` to one fewer than the number of time steps you loaded. \n",
    "The number of time steps loaded is given in the print-out of the data, under the `Dimensions` heading. \n",
    "As an example, if under `Dimensions:` you see `time: 9`, then there are 9 time steps, and `time_step` can be any number between `0` and `8`.\n",
    "\n",
    "* `bands=[red_channel, green_channel, blue_channel]`\\\n",
    "This sets the measurements that you want to use to make the image.\n",
    "Any measurements can be mapped to the three channels, and different combinations highlight different features.\n",
    "Two common combinations are\n",
    "    * true colour: \n",
    "    `bands = [\"nbar_red\", \"nbar_green\", \"nbar_blue\"]`\n",
    "    * false colour: `bands = [\"nbar_nir_1\", \"nbar_red\", \"nbar_green\"]`\n",
    "    \n",
    "For more detail about customising plots, see the [Introduction to plotting](05_Plotting.ipynb) notebook.\n",
    "\n",
    "> **Extension**: If `time_step` is set to an array of values, e.g. `time_step=[time_1, time_2]`, it will plot all provided time steps.\n",
    "See if you can modify the code to plot the first and last images.\n",
    "If you do, what changes do you notice?\n",
    "\n",
    "> *Hint*: To get the last image, you can use a time step value of `-1`"
   ]
  },
  {
   "cell_type": "code",
   "execution_count": null,
   "metadata": {},
   "outputs": [],
   "source": [
    "# Set the time step to view\n",
    "time_step = [0,-1]\n",
    "\n",
    "# Set the band combination to plot\n",
    "bands = [\"nbar_red\", \"nbar_green\", \"nbar_blue\"]\n",
    "\n",
    "# Generate the image by running the rgb function\n",
    "rgb(dataset, bands=bands, index=time_step, size=10)\n",
    "\n",
    "# Format the time stamp for use as the plot title\n",
    "time_string = str(dataset.time.isel(time=time_step).values).split('.')[0]  \n",
    "\n",
    "# Set the title and axis labels\n",
    "ax = plt.gca()\n",
    "ax.set_title(f\"Timestep {time_string}\", fontweight='bold', fontsize=16)\n",
    "ax.set_xlabel('Easting (m)', fontweight='bold')\n",
    "ax.set_ylabel('Northing (m)', fontweight='bold')\n",
    "\n",
    "# Display the plot\n",
    "plt.show()\n"
   ]
  },
  {
   "cell_type": "markdown",
   "metadata": {},
   "source": [
    "## Step 4: Calculate vegetation health\n",
    "\n",
    "While it's possible to identify vegetation in the RGB image, it can be helpful to have a quantitative index to describe the health of vegetation directly. \n",
    "\n",
    "In this case, the [Normalised Difference Vegetation Index](https://en.wikipedia.org/wiki/Normalized_difference_vegetation_index) (NDVI) can help identify areas of healthy vegetation.\n",
    "For remote sensing data such as satellite imagery, it is defined as\n",
    "\n",
    "$$\n",
    "\\begin{aligned}\n",
    "\\text{NDVI} & = \\frac{(\\text{NIR} - \\text{Red})}{(\\text{NIR} + \\text{Red})}, \\\\\n",
    "\\end{aligned}\n",
    "$$\n",
    "\n",
    "where $\\text{NIR}$ is the near-infrared band of the data, and $\\text{Red}$ is the red band.\n",
    "NDVI can take on values from -1 to 1; high values indicate healthy vegetation and negative values indicate non-vegetation (such as water). \n",
    "\n",
    "The following code calculates the top and bottom of the fraction separately, then computes the NDVI value directly from these components.\n",
    "The calculated NDVI values are stored as their own data array."
   ]
  },
  {
   "cell_type": "code",
   "execution_count": null,
   "metadata": {},
   "outputs": [],
   "source": [
    "# Calculate the components that make up the NDVI calculation\n",
    "band_diff = dataset.nbar_nir_1 - dataset.nbar_red\n",
    "band_sum = dataset.nbar_nir_1 + dataset.nbar_red\n",
    "\n",
    "# Calculate NDVI and store it as a measurement in the original dataset\n",
    "ndvi = band_diff / band_sum"
   ]
  },
  {
   "cell_type": "markdown",
   "metadata": {},
   "source": [
    "After calculating the NDVI values, it is possible to plot them by adding the `.plot()` method to `ndvi` (the variable that the values are stored in).\n",
    "The code below will plot a single image, based on the time selected with the `ndvi_time_step` variable.\n",
    "Try changing this value to plot the NDVI map at different time steps.\n",
    "Do you notice any differences?\n",
    "\n",
    "> **Extension 1**: Sometimes, it is valuable to change the colour scale to something that helps with intuitively understanding the image.\n",
    "For example, the \"viridis\" colour map shows high values in greens/yellows (mapping to vegetation), and low values in blue (mapping to water).\n",
    "Try modifying the `.plot(cmap=\"RdYlGn\")` command below to use `cmap=\"viridis\"` instead.\n",
    "\n",
    "> **Extension 2**: Below, a single time step is selected using the `.isel()` method.\n",
    "It is possible to plot all time steps by removing the `.isel()` method, and modifying the `.plot()` method to be `.plot(col=\"time\", col_wrap=3)`.\n",
    "Plotting all of the time steps at once may make it easier to notice differences in vegetation over time."
   ]
  },
  {
   "cell_type": "code",
   "execution_count": null,
   "metadata": {},
   "outputs": [],
   "source": [
    "# Set the NDVI time step to view\n",
    "ndvi_time_step = 0\n",
    "\n",
    "# This is the simple way to plot\n",
    "# Note that high values are likely to be vegetation.\n",
    "plt.figure(figsize=(10, 10))\n",
    "ndvi.plot(cmap=\"viridis\", col = 'time', col_wrap = 3)\n",
    "plt.show()"
   ]
  },
  {
   "cell_type": "markdown",
   "metadata": {},
   "source": [
    "## Step 5: Exporting data\n",
    "\n",
    "Sometimes, you will want to analyse satellite imagery in a GIS program, such as QGIS.\n",
    "The `write_geotiff()` command from the Open Data Cube library allows loaded data to be exported to GeoTIFF, a commonly used file format for geospatial data.\n",
    "> **Note**: the saved file will appear in the same directory as this notebook, and it can be downloaded from here for later use."
   ]
  },
  {
   "cell_type": "code",
   "execution_count": null,
   "metadata": {},
   "outputs": [],
   "source": [
    "# You can change this, if you like.\n",
    "filename = \"example.tiff\"\n",
    "\n",
    "write_cog(geo_im=ndvi, fname=filename)"
   ]
  },
  {
   "cell_type": "markdown",
   "metadata": {},
   "source": [
    "## Recommended next steps\n",
    "\n",
    "### For this notebook\n",
    "Many of the variables used in this analysis are configurable.\n",
    "We recommend returning to the beginning of the notebook and re-running the analysis with a different location, dates, measurements, and so on.\n",
    "This will help give you more understanding for running your own analysis.\n",
    "If you didn't try the extension activities the first time, try and work on these when you run through the notebook again.\n",
    "\n",
    "### For other notebooks\n",
    "To continue working through the notebooks in this beginner's guide, the following notebooks are designed to be worked through in the following order:\n",
    "\n",
    "1. [Jupyter Notebooks](01_Jupyter_notebooks.ipynb)\n",
    "2. [Digital Earth Australia](02_DEA.ipynb)\n",
    "3. [Products and measurements](03_Products_and_measurements.ipynb)\n",
    "4. [Loading data](04_Loading_data.ipynb)\n",
    "5. [Plotting](05_Plotting.ipynb)\n",
    "6. **Performing a basic analysis (this notebook)**\n",
    "7. [Introduction to Numpy](07_Intro_to_numpy.ipynb)\n",
    "8. [Introduction to Xarray](08_Intro_to_xarray.ipynb)\n",
    "9. [Parallel processing with Dask](09_Parallel_processing_with_dask.ipynb)"
   ]
  },
  {
   "cell_type": "markdown",
   "metadata": {},
   "source": [
    "***\n",
    "## Additional information\n",
    "\n",
    "**License:** The code in this notebook is licensed under the [Apache License, Version 2.0](https://www.apache.org/licenses/LICENSE-2.0). \n",
    "Digital Earth Australia data is licensed under the [Creative Commons by Attribution 4.0](https://creativecommons.org/licenses/by/4.0/) license.\n",
    "\n",
    "**Contact:** If you need assistance, please review the FAQ section and support options on the [EY Data Science platform](https://datascience.ey.com/)."
   ]
  }
 ],
 "metadata": {
  "kernelspec": {
   "display_name": "Python 3",
   "language": "python",
   "name": "python3"
  },
  "language_info": {
   "codemirror_mode": {
    "name": "ipython",
    "version": 3
   },
   "file_extension": ".py",
   "mimetype": "text/x-python",
   "name": "python",
   "nbconvert_exporter": "python",
   "pygments_lexer": "ipython3",
   "version": "3.6.9"
  },
  "widgets": {
   "application/vnd.jupyter.widget-state+json": {
    "state": {},
    "version_major": 2,
    "version_minor": 0
   }
  }
 },
 "nbformat": 4,
 "nbformat_minor": 4
}
